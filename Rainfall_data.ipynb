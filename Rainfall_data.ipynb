{
 "cells": [
  {
   "cell_type": "markdown",
   "id": "53853d4c-510f-42fb-8f66-5380baf229df",
   "metadata": {},
   "source": [
    "# Analyse and visualise rainfall data collected by region"
   ]
  },
  {
   "cell_type": "code",
   "execution_count": 1,
   "id": "18357e37-d710-4e5c-a8d3-65cf59bb9c15",
   "metadata": {},
   "outputs": [],
   "source": [
    "import pandas as pd \n",
    "import plotly.express as px\n",
    "import seaborn as sns\n",
    "import matplotlib.pyplot as plt\n",
    "import matplotlib.dates as mdates\n",
    "sns.set(style=\"whitegrid\", font='Helvetica')\n",
    "import numpy as np"
   ]
  },
  {
   "cell_type": "markdown",
   "id": "36aeac66-d475-4c61-87a2-76acf6aad492",
   "metadata": {},
   "source": [
    "## Load data"
   ]
  },
  {
   "cell_type": "code",
   "execution_count": 57,
   "id": "d4ca5365-d83a-48ad-9527-5522c62de4f0",
   "metadata": {},
   "outputs": [],
   "source": [
    "def read_data(filepath):\n",
    "    df = pd.read_csv(filepath)\n",
    "    df.drop(columns=' Validation',inplace=True)\n",
    "    df.rename(columns={' Minutes':'rainfall',' Rainfall':'Validation'},inplace=True)\n",
    "    df['date'] = pd.to_datetime(df[' Date'], format='%Y%m%d %H%M')\n",
    "    df.drop(columns=[' Date'],inplace=True)\n",
    "    df.set_index('date',inplace=True)\n",
    "    return df"
   ]
  },
  {
   "cell_type": "code",
   "execution_count": 63,
   "id": "ca152a21-3a17-47a0-bdda-45871dbb1419",
   "metadata": {},
   "outputs": [],
   "source": [
    "df = read_data('/Users/kang/Desktop/Hackathon_2023/Data/1503016')"
   ]
  },
  {
   "cell_type": "markdown",
   "id": "d3ac0515-a703-410d-9a33-2af6995cf61b",
   "metadata": {},
   "source": [
    "# Plotly monthly sum of rainfall for particular year"
   ]
  },
  {
   "cell_type": "code",
   "execution_count": 49,
   "id": "a97ef616-9c18-4036-a9a7-7d2e5e666215",
   "metadata": {},
   "outputs": [],
   "source": [
    "def plot_monthly_sum_of_year(df, start_date, end_date,station_name):\n",
    "    \n",
    "    start_date = str(start_date)[0:10]\n",
    "    end_date = str(end_date)[0:10]\n",
    "    # slice the date\n",
    "    mask = (df.index >= start_date) & (df.index <= end_date)\n",
    "    df_sliced = df.loc[mask]\n",
    "    \n",
    "    # resample into monthly sum\n",
    "    month = np.array(['Jan','Feb','Mar','Apr','May','Jun','July','Aug','Sep','Oct','Nov','Dec'])\n",
    "    df_resample = df_sliced.resample('1M').sum()\n",
    "    annual_mean_of_sum = df_resample.mean()\n",
    "    \n",
    "    if len(df_resample['rainfall'])!= len(month):\n",
    "        print('Year Not Completed')\n",
    "    else:\n",
    "    \n",
    "        # add into dataframe for plotiing \n",
    "        df_plot = pd.DataFrame({'rainfall':df_resample['rainfall'].values,'month':month})\n",
    "\n",
    "        # calculate total rainfall\n",
    "        total_rainfall = df_resample.sum()['rainfall']\n",
    "\n",
    "        # plot the graph \n",
    "        year = start_date[0:4]\n",
    "\n",
    "        plt.figure(figsize=(10, 6))\n",
    "\n",
    "        sns.barplot(data=df_plot, x='month', y='rainfall',label='Monthly Sum')\n",
    "\n",
    "        plt.title(f'Monthly Sum of Rainfall Across {year} ({station_name})\\n {start_date} to {end_date}')\n",
    "        plt.xlabel('Month')\n",
    "        plt.ylabel('mm')\n",
    "        \n",
    "        plt.axhline(y=annual_mean_of_sum['rainfall'], color='r', linestyle='--',label='Annual Mean')\n",
    "\n",
    "\n",
    "        # Display data values on the data points\n",
    "        for i, val in enumerate(df_plot['rainfall']):\n",
    "            plt.text(i, val, str(round(val,2)), ha='center', va='bottom')\n",
    "\n",
    "        plt.legend()\n",
    "        plt.savefig(f'/Users/kang/Desktop/Hackathon_2023/Images/monthly_sum_rainfall_{year}_{station_name}.jpg',dpi = 300)\n",
    "\n",
    "        print(f'Saving for monthly_sum_rainfall_{year}_{station_name}.jpg')\n",
    "        plt.close()"
   ]
  },
  {
   "cell_type": "code",
   "execution_count": 64,
   "id": "b1b25db4-a478-4b16-bb78-9c26a098f33f",
   "metadata": {},
   "outputs": [],
   "source": [
    "# Create a list of dates with yearly intervals\n",
    "start_list = pd.date_range(start='2013-01-01', end='2022-01-01', freq='YS')\n",
    "end_list = pd.date_range(start='2013-12-31', end='2022-12-31', freq='Y')\n"
   ]
  },
  {
   "cell_type": "code",
   "execution_count": 65,
   "id": "04c19ebb-6cba-4ecf-890e-1940cad0cdb3",
   "metadata": {},
   "outputs": [
    {
     "name": "stdout",
     "output_type": "stream",
     "text": [
      "Saving for monthly_sum_rainfall_2013_Satok Bridge.jpg\n",
      "Saving for monthly_sum_rainfall_2014_Satok Bridge.jpg\n",
      "Saving for monthly_sum_rainfall_2015_Satok Bridge.jpg\n",
      "Saving for monthly_sum_rainfall_2016_Satok Bridge.jpg\n",
      "Saving for monthly_sum_rainfall_2017_Satok Bridge.jpg\n",
      "Saving for monthly_sum_rainfall_2018_Satok Bridge.jpg\n",
      "Saving for monthly_sum_rainfall_2019_Satok Bridge.jpg\n",
      "Saving for monthly_sum_rainfall_2020_Satok Bridge.jpg\n",
      "Saving for monthly_sum_rainfall_2021_Satok Bridge.jpg\n",
      "Year Not Completed\n"
     ]
    }
   ],
   "source": [
    "for i in range(len(end_list)):\n",
    "    start_date = start_list[i]\n",
    "    end_date = end_list[i]\n",
    "    \n",
    "    plot_monthly_sum_of_year(df,start_date,end_date,station_name='Satok Bridge')"
   ]
  },
  {
   "cell_type": "markdown",
   "id": "cd55cc3a-7ee4-4764-ac67-27359d0ed2b9",
   "metadata": {},
   "source": [
    "## Plotly daily sum of rainfall for particular month of the year"
   ]
  },
  {
   "cell_type": "code",
   "execution_count": 53,
   "id": "c181c25b-9ae8-4edb-8926-ce664a6aad6b",
   "metadata": {},
   "outputs": [],
   "source": [
    "def plot_daily_sum_of_month(df,start_year,end_year, start_date, end_date,station_name):\n",
    "    \n",
    "    # create mask for year\n",
    "    mask_year = (df.index >= f'{start_year}-01-01') & (df.index <= f'{end_year}-12-31')\n",
    "    df_daily_year = df.loc[mask_year]\n",
    "    \n",
    "    # get the daily mean of the year\n",
    "    df_daily_mean = df_daily_year.resample('1D').sum().mean()\n",
    "    df_daily_max = df_daily_year.resample('1D').sum().max()\n",
    "    df_daily_min = df_daily_year.resample('1D').sum().min()\n",
    "\n",
    "    \n",
    "    start_date = str(start_date)[0:10]\n",
    "    end_date = str(end_date)[0:10]\n",
    "    # slice the date\n",
    "    mask = (df.index >= start_date) & (df.index <= end_date)\n",
    "    df_sliced = df.loc[mask]\n",
    "    \n",
    "    # resample into monthly sum\n",
    "    df_resample = df_sliced.resample('1D').sum()\n",
    "    \n",
    "    #calculate total rainfall\n",
    "    total_rainfall = df_resample.sum()['rainfall']\n",
    "\n",
    "    # plot the graph \n",
    "    year = start_date[0:4]\n",
    "    month = start_date[5:7]\n",
    "    plt.figure(figsize=(10, 6))\n",
    "\n",
    "    sns.barplot(data=df_resample, x=df_resample.index, y='rainfall',color='royalblue')\n",
    "\n",
    "    plt.title(f'Daily Sum of Rainfall Across {year} ({station_name})\\n {start_date} to {end_date}')\n",
    "    plt.xlabel('Day')\n",
    "    plt.ylabel('Rainfall (mm)')\n",
    "\n",
    "    # daily max\n",
    "    plt.axhline(y=df_daily_max['rainfall'],color='red',linestyle='--',label='Annual Daily Max')\n",
    "    \n",
    "    # daily mean\n",
    "     \n",
    "    plt.axhline(y=df_daily_mean['rainfall'], color='orange', linestyle='--',label='Annual Daily Mean')\n",
    "    \n",
    "    \n",
    "    # daily min\n",
    "    # plt.axhline(y=df_daily_min['rainfall'],color='green',linestyle='--',label='Daily min of the year')\n",
    "    \n",
    "    plt.gca().xaxis.set_major_formatter(mdates.DateFormatter('%d'))  # %b gives abbreviated month name\n",
    "\n",
    "\n",
    "    # legend\n",
    "    plt.legend()\n",
    "\n",
    "    plt.savefig(f'/Users/kang/Desktop/Hackathon_2023/Images/daily_sum_rainfall_{year}_{month}_{station_name}.jpg',dpi = 300)\n",
    "\n",
    "    print(f'Saving for daily_sum_rainfall_{year}_{month}_{station_name}.jpg')\n",
    "    plt.close()"
   ]
  },
  {
   "cell_type": "code",
   "execution_count": 66,
   "id": "52643d9c-e562-4b81-915e-92263409c0e3",
   "metadata": {},
   "outputs": [
    {
     "name": "stdout",
     "output_type": "stream",
     "text": [
      "Saving for daily_sum_rainfall_2021_01_Satok Bridge.jpg\n",
      "Saving for daily_sum_rainfall_2021_02_Satok Bridge.jpg\n",
      "Saving for daily_sum_rainfall_2021_03_Satok Bridge.jpg\n",
      "Saving for daily_sum_rainfall_2021_04_Satok Bridge.jpg\n",
      "Saving for daily_sum_rainfall_2021_05_Satok Bridge.jpg\n",
      "Saving for daily_sum_rainfall_2021_06_Satok Bridge.jpg\n",
      "Saving for daily_sum_rainfall_2021_07_Satok Bridge.jpg\n",
      "Saving for daily_sum_rainfall_2021_08_Satok Bridge.jpg\n",
      "Saving for daily_sum_rainfall_2021_09_Satok Bridge.jpg\n",
      "Saving for daily_sum_rainfall_2021_10_Satok Bridge.jpg\n",
      "Saving for daily_sum_rainfall_2021_11_Satok Bridge.jpg\n",
      "Saving for daily_sum_rainfall_2021_12_Satok Bridge.jpg\n"
     ]
    }
   ],
   "source": [
    "# Create a list of dates with monthly intervals\n",
    "start_list = pd.date_range(start='2021-01-01', end='2021-12-01', freq='MS')\n",
    "end_list = pd.date_range(start='2021-01-31', end='2021-12-31', freq='M')\n",
    "\n",
    "for i in range(len(end_list)):\n",
    "    start_date = start_list[i]\n",
    "    end_date = end_list[i]\n",
    "    \n",
    "    plot_daily_sum_of_month(df,start_year='2021',end_year='2021',start_date=start_date,end_date=end_date,station_name='Satok Bridge')"
   ]
  },
  {
   "cell_type": "markdown",
   "id": "2de96d4f-1d91-4b01-bf19-aebbbafa5c5c",
   "metadata": {},
   "source": [
    "## Plot the hourly sum of rainfall of the selected day"
   ]
  },
  {
   "cell_type": "code",
   "execution_count": 55,
   "id": "16b87160-2451-48ae-bfa9-5e817fa968d7",
   "metadata": {},
   "outputs": [],
   "source": [
    "def plot_hourly_sum_of_day(df,date,station_name):\n",
    "    \n",
    "#     # create mask for year\n",
    "#     mask_year = (df.index >= f'{start_year}-01-01') & (df.index <= f'{end_year}-12-31')\n",
    "#     df_daily_year = df.loc[mask_year]\n",
    "    \n",
    "#     # get the daily mean of the year\n",
    "#     df_daily_mean = df_daily_year.resample('1H').sum().mean()\n",
    "#     df_daily_max = df_daily_year.resample('1H').sum().max()\n",
    "#     df_daily_min = df_daily_year.resample('1H').sum().min()\n",
    "\n",
    "    \n",
    "    start_hour = str(date)[0:10]+' 00:00:00'\n",
    "    end_hour = str(date)[0:10]+' 23:55:00'\n",
    "    # slice the date\n",
    "    mask = (df.index >= start_hour) & (df.index <= end_hour)\n",
    "    df_sliced = df.loc[mask]\n",
    "    \n",
    "    # resample into monthly sum\n",
    "    df_resample = df_sliced.resample('1H').sum()\n",
    "    \n",
    "    #calculate total rainfall\n",
    "    total_rainfall = df_resample.sum()['rainfall']\n",
    "    \n",
    "    \n",
    "    hours = np.arange(0, 24)\n",
    "    minutes = np.zeros_like(hours)\n",
    "    seconds = np.zeros_like(hours)\n",
    "\n",
    "    # Combine hour, minute, and second arrays into a string array\n",
    "    time_strings = [f\"{h:02d}:{m:02d}:{s:02d}\" for h, m, s in zip(hours, minutes, seconds)]\n",
    "\n",
    "\n",
    "    # create new dataframe\n",
    "    df_plot = pd.DataFrame({'hour':time_strings,'rainfall':df_resample['rainfall'].values})\n",
    "\n",
    "    # plot the graph \n",
    "    date_of_data = str(date)[0:10]\n",
    "    plt.figure(figsize=(10, 6))\n",
    "\n",
    "    sns.barplot(data=df_plot, x='hour', y='rainfall',color='royalblue')\n",
    "\n",
    "    plt.title(f'Hourly Sum of Rainfall on {date_of_data} ({station_name})')\n",
    "    plt.xlabel('Hour')\n",
    "    plt.ylabel('Rainfall (mm)')\n",
    "    plt.xticks(rotation='vertical')\n",
    "\n",
    "\n",
    "    # daily mean\n",
    "#     plt.axhline(y=df_daily_mean['rainfall'], color='orange', linestyle='--',label='Daily mean of the year')\n",
    "    \n",
    "#     # daily max\n",
    "#     plt.axhline(y=df_daily_max['rainfall'],color='red',linestyle='--',label='Daily max of the year')\n",
    "                \n",
    "#     # daily min\n",
    "#     plt.axhline(y=df_daily_min['rainfall'],color='green',linestyle='--',label='Daily min of the year')\n",
    "    \n",
    "    # plt.gca().xaxis.set_major_formatter(mdates.DateFormatter('%H:%M'))  # %b gives abbreviated month name\n",
    "\n",
    "    plt.tight_layout()\n",
    "    plt.savefig(f'/Users/kang/Desktop/Hackathon_2023/Images/hourly_sum_rainfall_{date_of_data}_{station_name}.jpg',dpi = 300)\n",
    "\n",
    "    print(f'Saving for hourly_sum_rainfall_{date_of_data}_{station_name}.jpg')\n",
    "    plt.close()"
   ]
  },
  {
   "cell_type": "code",
   "execution_count": 67,
   "id": "2f0f6774-5b04-45b8-ae20-63f8cff7c409",
   "metadata": {},
   "outputs": [
    {
     "name": "stdout",
     "output_type": "stream",
     "text": [
      "Saving for hourly_sum_rainfall_2021-12-29_Satok Bridge.jpg\n",
      "Saving for hourly_sum_rainfall_2021-12-30_Satok Bridge.jpg\n",
      "Saving for hourly_sum_rainfall_2021-12-31_Satok Bridge.jpg\n"
     ]
    }
   ],
   "source": [
    "# Create a list of dates with monthly intervals\n",
    "date_list = pd.date_range(start='2021-12-29', end='2021-12-31', freq='D')\n",
    "for i in range(len(date_list)):\n",
    "    date = date_list[i]\n",
    "    \n",
    "    plot_hourly_sum_of_day(df,date=date,station_name='Satok Bridge')"
   ]
  },
  {
   "cell_type": "code",
   "execution_count": null,
   "id": "3b974f48-3584-44d6-8a94-98cf98735032",
   "metadata": {},
   "outputs": [],
   "source": []
  }
 ],
 "metadata": {
  "kernelspec": {
   "display_name": "Python 3.10 (portfolio)",
   "language": "python",
   "name": "portfolio"
  },
  "language_info": {
   "codemirror_mode": {
    "name": "ipython",
    "version": 3
   },
   "file_extension": ".py",
   "mimetype": "text/x-python",
   "name": "python",
   "nbconvert_exporter": "python",
   "pygments_lexer": "ipython3",
   "version": "3.10.8"
  }
 },
 "nbformat": 4,
 "nbformat_minor": 5
}
